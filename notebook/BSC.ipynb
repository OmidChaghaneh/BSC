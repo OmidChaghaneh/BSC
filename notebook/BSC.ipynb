{
 "cells": [
  {
   "cell_type": "code",
   "execution_count": 1,
   "metadata": {},
   "outputs": [
    {
     "name": "stdout",
     "output_type": "stream",
     "text": [
      "c:\\0_Main\\2_Quantitative_ultrasound\\2_github\\BSC\\notebook\n",
      "c:\\0_Main\\2_Quantitative_ultrasound\\2_github\\BSC\n"
     ]
    }
   ],
   "source": [
    "%load_ext autoreload\n",
    "%autoreload 2\n",
    "import os\n",
    "from pathlib import Path\n",
    "\n",
    "print(Path().cwd())\n",
    "os.chdir(Path().cwd().parent)\n",
    "print(Path().cwd())"
   ]
  },
  {
   "cell_type": "markdown",
   "metadata": {},
   "source": [
    "### BSC"
   ]
  },
  {
   "cell_type": "code",
   "execution_count": 1,
   "metadata": {},
   "outputs": [
    {
     "ename": "ModuleNotFoundError",
     "evalue": "No module named 'scr'",
     "output_type": "error",
     "traceback": [
      "\u001b[31m---------------------------------------------------------------------------\u001b[39m",
      "\u001b[31mModuleNotFoundError\u001b[39m                       Traceback (most recent call last)",
      "\u001b[36mCell\u001b[39m\u001b[36m \u001b[39m\u001b[32mIn[1]\u001b[39m\u001b[32m, line 1\u001b[39m\n\u001b[32m----> \u001b[39m\u001b[32m1\u001b[39m \u001b[38;5;28;01mfrom\u001b[39;00m\u001b[38;5;250m \u001b[39m\u001b[34;01mscr\u001b[39;00m\u001b[34;01m.\u001b[39;00m\u001b[34;01mclarius\u001b[39;00m\u001b[34;01m.\u001b[39;00m\u001b[34;01mmain\u001b[39;00m\u001b[38;5;250m \u001b[39m\u001b[38;5;28;01mimport\u001b[39;00m BSC\n\u001b[32m      3\u001b[39m \u001b[38;5;66;03m# Initialize BSC with required parameters\u001b[39;00m\n\u001b[32m      4\u001b[39m bsc = BSC(\n\u001b[32m      5\u001b[39m     samples_folder_path=\u001b[33m\"\u001b[39m\u001b[33mdata/samples\u001b[39m\u001b[33m\"\u001b[39m,  \u001b[38;5;66;03m# Path to your samples folder\u001b[39;00m\n\u001b[32m      6\u001b[39m     roi_folder_path=\u001b[33m\"\u001b[39m\u001b[33mdata/ROIs\u001b[39m\u001b[33m\"\u001b[39m,        \u001b[38;5;66;03m# Path to your ROI folder\u001b[39;00m\n\u001b[32m   (...)\u001b[39m\u001b[32m     12\u001b[39m     alpha=\u001b[32m0.5\u001b[39m, \u001b[38;5;66;03m# dB/cm/MHz \u001b[39;00m\n\u001b[32m     13\u001b[39m )\n",
      "\u001b[31mModuleNotFoundError\u001b[39m: No module named 'scr'"
     ]
    }
   ],
   "source": [
    "from scr.clarius.main import BSC\n",
    "\n",
    "# Initialize BSC with required parameters\n",
    "bsc = BSC(\n",
    "    samples_folder_path=\"data/samples\",  # Path to your samples folder\n",
    "    roi_folder_path=\"data/ROIs\",        # Path to your ROI folder\n",
    "    result_folder_path=\"data/results\",        # Path where you want to save results\n",
    "    normalization_method=\"normalized_with_constant_alpha\",  # or \"normalized_with_healthy_liver\", \"normalized_with_constant_alpha\", \"normalized_with_calculated_alpha\"\n",
    "    window=\"hann\",       # Window type for STFT\n",
    "    nperseg=64,        # Number of data points in each STFT segment\n",
    "    noverlap=32,        # Number of points to overlap between segments\n",
    "    alpha=0.5, # dB/cm/MHz \n",
    ")\n",
    "\n",
    "# \"normalized_with_phantom\",\n",
    "# \"normalized_with_healthy_liver\",\n",
    "# \"normalized_with_constant_alpha\",\n",
    "# \"normalized_with_calculated_alpha\"\n"
   ]
  },
  {
   "cell_type": "code",
   "execution_count": null,
   "metadata": {},
   "outputs": [],
   "source": []
  }
 ],
 "metadata": {
  "kernelspec": {
   "display_name": ".venv",
   "language": "python",
   "name": "python3"
  },
  "language_info": {
   "codemirror_mode": {
    "name": "ipython",
    "version": 3
   },
   "file_extension": ".py",
   "mimetype": "text/x-python",
   "name": "python",
   "nbconvert_exporter": "python",
   "pygments_lexer": "ipython3",
   "version": "3.12.0"
  },
  "orig_nbformat": 4
 },
 "nbformat": 4,
 "nbformat_minor": 2
}
