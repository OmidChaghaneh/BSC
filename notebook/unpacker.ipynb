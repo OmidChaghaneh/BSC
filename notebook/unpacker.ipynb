{
 "cells": [
  {
   "cell_type": "code",
   "execution_count": 1,
   "metadata": {},
   "outputs": [
    {
     "name": "stdout",
     "output_type": "stream",
     "text": [
      "c:\\0_Main\\2_Quantitative_ultrasound\\2_github\\BSC\\notebook\n",
      "c:\\0_Main\\2_Quantitative_ultrasound\\2_github\\BSC\n"
     ]
    }
   ],
   "source": [
    "%load_ext autoreload\n",
    "%autoreload 2\n",
    "import os\n",
    "from pathlib import Path\n",
    "\n",
    "print(Path().cwd())\n",
    "os.chdir(Path().cwd().parent)\n",
    "print(Path().cwd())\n"
   ]
  },
  {
   "cell_type": "markdown",
   "metadata": {},
   "source": [
    "### Tar unpacker"
   ]
  },
  {
   "cell_type": "code",
   "execution_count": 6,
   "metadata": {},
   "outputs": [
    {
     "name": "stderr",
     "output_type": "stream",
     "text": [
      "2025-08-14 10:48:28,566 - ERROR - Error during probe-specific padding: Current samples (3120) exceeds target samples (2928)\n",
      "2025-08-14 10:48:28,571 - ERROR - Unexpected error in set_full_signal: Current samples (3120) exceeds target samples (2928)\n",
      "2025-08-14 10:48:28,571 - ERROR - Error processing folder C:\\johanna_samples\\raw_data_metastasis_halle\\UKHBIOPSIE019\\raw_0_0_extracted: Current samples (3120) exceeds target samples (2928)\n",
      "2025-08-14 10:48:46,973 - ERROR - Error during probe-specific padding: Current samples (2992) exceeds target samples (2928)\n",
      "2025-08-14 10:48:46,975 - ERROR - Unexpected error in set_full_signal: Current samples (2992) exceeds target samples (2928)\n",
      "2025-08-14 10:48:46,975 - ERROR - Error processing folder C:\\johanna_samples\\raw_data_metastasis_halle\\UKHBIOPSIE022\\raw_0_0_extracted: Current samples (2992) exceeds target samples (2928)\n",
      "2025-08-14 10:49:14,060 - ERROR - Error during probe-specific padding: Current samples (2944) exceeds target samples (2928)\n",
      "2025-08-14 10:49:14,060 - ERROR - Unexpected error in set_full_signal: Current samples (2944) exceeds target samples (2928)\n",
      "2025-08-14 10:49:14,062 - ERROR - Error processing folder C:\\johanna_samples\\raw_data_metastasis_halle\\UKHCEUS015\\raw_0_0_extracted: Current samples (2944) exceeds target samples (2928)\n"
     ]
    }
   ],
   "source": [
    "from scr.clarius.main import ClariusDataUnpacker\n",
    "\n",
    "# Create an instance\n",
    "unpacker = ClariusDataUnpacker()\n",
    "\n",
    "# Unpack data\n",
    "result = unpacker.unpack_data(path=r\"C:\\johanna_samples\\raw_data_metastasis_halle\")"
   ]
  },
  {
   "cell_type": "code",
   "execution_count": null,
   "metadata": {},
   "outputs": [],
   "source": []
  }
 ],
 "metadata": {
  "kernelspec": {
   "display_name": ".venv",
   "language": "python",
   "name": "python3"
  },
  "language_info": {
   "codemirror_mode": {
    "name": "ipython",
    "version": 3
   },
   "file_extension": ".py",
   "mimetype": "text/x-python",
   "name": "python",
   "nbconvert_exporter": "python",
   "pygments_lexer": "ipython3",
   "version": "3.12.10"
  },
  "orig_nbformat": 4
 },
 "nbformat": 4,
 "nbformat_minor": 2
}
