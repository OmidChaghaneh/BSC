{
 "cells": [
  {
   "cell_type": "code",
   "execution_count": 1,
   "id": "d7478ae9",
   "metadata": {},
   "outputs": [
    {
     "name": "stdout",
     "output_type": "stream",
     "text": [
      "c:\\0_Main\\2_Quantitative_ultrasound\\2_github\\BSC\\notebook\n",
      "c:\\0_Main\\2_Quantitative_ultrasound\\2_github\\BSC\n"
     ]
    }
   ],
   "source": [
    "%load_ext autoreload\n",
    "%autoreload 2\n",
    "import os\n",
    "from pathlib import Path\n",
    "\n",
    "print(Path().cwd())\n",
    "os.chdir(Path().cwd().parent)\n",
    "print(Path().cwd())"
   ]
  },
  {
   "cell_type": "code",
   "execution_count": 7,
   "id": "6278a3a8",
   "metadata": {},
   "outputs": [
    {
     "name": "stdout",
     "output_type": "stream",
     "text": [
      "Starting Hilbert Transform Processing...\n",
      "Samples folder: C:\\johanna_samples\\raw_data_metastasis_halle\n",
      "ROI folder: C:\\johanna_samples\\gui_metastasis_halle\n",
      "Results folder: C:\\hilbert_transform_results\\raw_data_metastasis_halle\n"
     ]
    },
    {
     "name": "stderr",
     "output_type": "stream",
     "text": [
      "2025-08-25 10:05:30,134 - ERROR - Error reading data: No matching numpy files found in extracted folders for pattern: C3_large_*_no_tgc.npy\n",
      "2025-08-25 10:05:30,134 - ERROR - Error processing sample UKHBIOPSIE019: No matching numpy files found in extracted folders for pattern: C3_large_*_no_tgc.npy\n",
      "2025-08-25 10:05:31,336 - ERROR - Error reading data: No matching numpy files found in extracted folders for pattern: C3_large_*_no_tgc.npy\n",
      "2025-08-25 10:05:31,336 - ERROR - Error processing sample UKHBIOPSIE022: No matching numpy files found in extracted folders for pattern: C3_large_*_no_tgc.npy\n",
      "2025-08-25 10:05:34,734 - ERROR - Error reading data: No matching numpy files found in extracted folders for pattern: C3_large_*_no_tgc.npy\n",
      "2025-08-25 10:05:34,735 - ERROR - Error processing sample UKHCEUS015: No matching numpy files found in extracted folders for pattern: C3_large_*_no_tgc.npy\n"
     ]
    },
    {
     "name": "stdout",
     "output_type": "stream",
     "text": [
      "\n",
      "Hilbert transform processing completed successfully!\n",
      "Results saved to: C:\\hilbert_transform_results\\raw_data_metastasis_halle/ with individual sample folders\n"
     ]
    }
   ],
   "source": [
    "from scr.clarius.main import HilbertTransformProcessor\n",
    "\n",
    "# Define paths (update these to match your actual paths)\n",
    "samples_folder_path = r\"C:\\johanna_samples\\raw_data_metastasis_halle\"  # Path to your samples folder\n",
    "roi_folder_path = r\"C:\\johanna_samples\\gui_metastasis_halle\"         # Path to your ROI folder\n",
    "result_folder_path = r\"C:\\hilbert_transform_results\\raw_data_metastasis_halle\"            # Path where to save results\n",
    "\n",
    "print(\"Starting Hilbert Transform Processing...\")\n",
    "print(f\"Samples folder: {samples_folder_path}\")\n",
    "print(f\"ROI folder: {roi_folder_path}\")\n",
    "print(f\"Results folder: {result_folder_path}\")\n",
    "\n",
    "# Initialize HilbertTransformProcessor\n",
    "hilbert_processor = HilbertTransformProcessor(\n",
    "    samples_folder_path=samples_folder_path,\n",
    "    result_folder_path=result_folder_path,\n",
    "    roi_folder_path=roi_folder_path,\n",
    "    roi_size='large'  # or 'small'\n",
    ")\n",
    "\n",
    "print(\"\\nHilbert transform processing completed successfully!\")\n",
    "print(f\"Results saved to: {result_folder_path}/ with individual sample folders\")\n",
    "\n"
   ]
  },
  {
   "cell_type": "code",
   "execution_count": null,
   "id": "1f89237e",
   "metadata": {},
   "outputs": [],
   "source": []
  }
 ],
 "metadata": {
  "kernelspec": {
   "display_name": ".venv",
   "language": "python",
   "name": "python3"
  },
  "language_info": {
   "codemirror_mode": {
    "name": "ipython",
    "version": 3
   },
   "file_extension": ".py",
   "mimetype": "text/x-python",
   "name": "python",
   "nbconvert_exporter": "python",
   "pygments_lexer": "ipython3",
   "version": "3.12.10"
  }
 },
 "nbformat": 4,
 "nbformat_minor": 5
}
