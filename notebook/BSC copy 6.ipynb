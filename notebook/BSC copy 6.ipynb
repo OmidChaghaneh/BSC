{
 "cells": [
  {
   "cell_type": "code",
   "execution_count": 2,
   "metadata": {},
   "outputs": [
    {
     "name": "stdout",
     "output_type": "stream",
     "text": [
      "c:\\0_Main\\2_Quantitative_ultrasound\\2_github\\BSC\\notebook\n",
      "c:\\0_Main\\2_Quantitative_ultrasound\\2_github\\BSC\n"
     ]
    }
   ],
   "source": [
    "%load_ext autoreload\n",
    "%autoreload 2\n",
    "import os\n",
    "from pathlib import Path\n",
    "\n",
    "print(Path().cwd())\n",
    "os.chdir(Path().cwd().parent)\n",
    "print(Path().cwd())"
   ]
  },
  {
   "cell_type": "markdown",
   "metadata": {},
   "source": [
    "### BSC"
   ]
  },
  {
   "cell_type": "code",
   "execution_count": 3,
   "metadata": {},
   "outputs": [],
   "source": [
    "from scr.clarius.main import BSC\n",
    "\n",
    "samples_folder_path = r\"C:\\johanna_samples\\raw_data_metastasis\"\n",
    "roi_folder_path = r\"C:\\johanna_samples\\gui_metastasis\"\n",
    "result_folder_path = r\"C:\\johanna_results\\normalized_with_constant_alpha\\raw_data_metastasis\"\n",
    "\n",
    "# Initialize BSC with required parameters\n",
    "bsc = BSC(\n",
    "    samples_folder_path=samples_folder_path,  # Path to your samples folder\n",
    "    roi_folder_path=roi_folder_path,        # Path to your ROI folder\n",
    "    result_folder_path=result_folder_path,        # Path where you want to save results\n",
    "    \n",
    "    normalization_method=\"normalized_with_constant_alpha\",  # or \"normalized_with_healthy_liver\", \"normalized_with_constant_alpha\", \"normalized_with_calculated_alpha\"\n",
    "    \n",
    "    window=\"hann\",       # Window type for STFT\n",
    "    nperseg=64,        # Number of data points in each STFT segment\n",
    "    noverlap=32,        # Number of points to overlap between segments\n",
    "    alpha=0.5, # dB/cm/MHz \n",
    "    roi_size='large' # 'large' or 'small'\n",
    ")\n",
    "\n",
    "# \"normalized_with_phantom\",\n",
    "# \"normalized_with_healthy_liver\",\n",
    "# \"normalized_with_constant_alpha\",\n",
    "# \"normalized_with_calculated_alpha\"\n"
   ]
  },
  {
   "cell_type": "code",
   "execution_count": null,
   "metadata": {},
   "outputs": [],
   "source": []
  }
 ],
 "metadata": {
  "kernelspec": {
   "display_name": ".venv",
   "language": "python",
   "name": "python3"
  },
  "language_info": {
   "codemirror_mode": {
    "name": "ipython",
    "version": 3
   },
   "file_extension": ".py",
   "mimetype": "text/x-python",
   "name": "python",
   "nbconvert_exporter": "python",
   "pygments_lexer": "ipython3",
   "version": "3.12.10"
  },
  "orig_nbformat": 4
 },
 "nbformat": 4,
 "nbformat_minor": 2
}
