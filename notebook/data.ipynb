{
 "cells": [
  {
   "cell_type": "code",
   "execution_count": 1,
   "metadata": {},
   "outputs": [
    {
     "name": "stdout",
     "output_type": "stream",
     "text": [
      "c:\\0_Main\\2_Quantitative_ultrasound\\2_github\\BSC\\notebook\n",
      "c:\\0_Main\\2_Quantitative_ultrasound\\2_github\\BSC\n"
     ]
    }
   ],
   "source": [
    "%load_ext autoreload\n",
    "%autoreload 2\n",
    "import os\n",
    "from pathlib import Path\n",
    "\n",
    "print(Path().cwd())\n",
    "os.chdir(Path().cwd().parent)\n",
    "print(Path().cwd())"
   ]
  },
  {
   "cell_type": "markdown",
   "metadata": {},
   "source": [
    "### Data"
   ]
  },
  {
   "cell_type": "code",
   "execution_count": 3,
   "metadata": {},
   "outputs": [
    {
     "ename": "NameError",
     "evalue": "name 'mode' is not defined",
     "output_type": "error",
     "traceback": [
      "\u001b[31m---------------------------------------------------------------------------\u001b[39m",
      "\u001b[31mNameError\u001b[39m                                 Traceback (most recent call last)",
      "\u001b[36mCell\u001b[39m\u001b[36m \u001b[39m\u001b[32mIn[3]\u001b[39m\u001b[32m, line 5\u001b[39m\n\u001b[32m      1\u001b[39m \u001b[38;5;28;01mfrom\u001b[39;00m\u001b[38;5;250m \u001b[39m\u001b[34;01mscr\u001b[39;00m\u001b[34;01m.\u001b[39;00m\u001b[34;01mclarius\u001b[39;00m\u001b[34;01m.\u001b[39;00m\u001b[34;01mmain\u001b[39;00m\u001b[38;5;250m \u001b[39m\u001b[38;5;28;01mimport\u001b[39;00m SingleSampleData\n\u001b[32m      3\u001b[39m folder_path = \u001b[33m\"\u001b[39m\u001b[33mdata/samples/UKDCEUS035\u001b[39m\u001b[33m\"\u001b[39m\n\u001b[32m----> \u001b[39m\u001b[32m5\u001b[39m data_obj = \u001b[43mSingleSampleData\u001b[49m\u001b[43m(\u001b[49m\n\u001b[32m      6\u001b[39m \u001b[43m    \u001b[49m\u001b[43msample_folder_path\u001b[49m\u001b[43m=\u001b[49m\u001b[43mfolder_path\u001b[49m\u001b[43m,\u001b[49m\n\u001b[32m      7\u001b[39m \u001b[43m    \u001b[49m\u001b[43mdevice\u001b[49m\u001b[43m=\u001b[49m\u001b[33;43m\"\u001b[39;49m\u001b[33;43mC3\u001b[39;49m\u001b[33;43m\"\u001b[39;49m\u001b[43m)\u001b[49m\n",
      "\u001b[36mFile \u001b[39m\u001b[32mc:\\0_Main\\2_Quantitative_ultrasound\\2_github\\BSC\\scr\\clarius\\main.py:455\u001b[39m, in \u001b[36mSingleSampleData.__init__\u001b[39m\u001b[34m(self, sample_folder_path, device, size)\u001b[39m\n\u001b[32m    453\u001b[39m \u001b[38;5;28mself\u001b[39m.device = device\n\u001b[32m    454\u001b[39m \u001b[38;5;28mself\u001b[39m.size = size\n\u001b[32m--> \u001b[39m\u001b[32m455\u001b[39m \u001b[38;5;28mself\u001b[39m.mode = \u001b[43mmode\u001b[49m\n\u001b[32m    457\u001b[39m \u001b[38;5;66;03m# Extract sample name from path\u001b[39;00m\n\u001b[32m    458\u001b[39m \u001b[38;5;28mself\u001b[39m.sample_name = \u001b[38;5;28mself\u001b[39m.sample_folder_path.name\n",
      "\u001b[31mNameError\u001b[39m: name 'mode' is not defined"
     ]
    }
   ],
   "source": [
    "from scr.clarius.main import SingleSampleData\n",
    "\n",
    "folder_path = \"data/samples/UKDCEUS035\"\n",
    "\n",
    "data_obj = SingleSampleData(\n",
    "    sample_folder_path=folder_path,\n",
    "    device=\"C3\")"
   ]
  },
  {
   "cell_type": "code",
   "execution_count": null,
   "metadata": {},
   "outputs": [],
   "source": []
  }
 ],
 "metadata": {
  "kernelspec": {
   "display_name": ".venv",
   "language": "python",
   "name": "python3"
  },
  "language_info": {
   "codemirror_mode": {
    "name": "ipython",
    "version": 3
   },
   "file_extension": ".py",
   "mimetype": "text/x-python",
   "name": "python",
   "nbconvert_exporter": "python",
   "pygments_lexer": "ipython3",
   "version": "3.12.0"
  },
  "orig_nbformat": 4
 },
 "nbformat": 4,
 "nbformat_minor": 2
}
